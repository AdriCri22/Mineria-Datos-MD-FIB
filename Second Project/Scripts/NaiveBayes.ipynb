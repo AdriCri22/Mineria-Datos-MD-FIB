{
 "cells": [
  {
   "cell_type": "code",
   "execution_count": 1,
   "metadata": {
    "colab": {
     "base_uri": "https://localhost:8080/",
     "height": 571
    },
    "executionInfo": {
     "elapsed": 2282,
     "status": "error",
     "timestamp": 1640778291756,
     "user": {
      "displayName": "Adrian Cristian Crisan",
      "photoUrl": "https://lh3.googleusercontent.com/a/default-user=s64",
      "userId": "13633074010779445649"
     },
     "user_tz": -60
    },
    "id": "sjPvE8d4Aa6U",
    "outputId": "c8450efc-4fa8-462a-cdc0-bc674f4f9fab"
   },
   "outputs": [
    {
     "name": "stderr",
     "output_type": "stream",
     "text": [
      "[nltk_data] Downloading package punkt to /home/adrian/nltk_data...\n",
      "[nltk_data]   Package punkt is already up-to-date!\n",
      "[nltk_data] Downloading package stopwords to /home/adrian/nltk_data...\n",
      "[nltk_data]   Package stopwords is already up-to-date!\n",
      "[nltk_data] Downloading package averaged_perceptron_tagger to\n",
      "[nltk_data]     /home/adrian/nltk_data...\n",
      "[nltk_data]   Package averaged_perceptron_tagger is already up-to-\n",
      "[nltk_data]       date!\n"
     ]
    }
   ],
   "source": [
    "# Libraries\n",
    "import numpy as np\n",
    "import matplotlib.pyplot as plt\n",
    "import sklearn\n",
    "import sklearn.datasets as ds\n",
    "import sklearn.model_selection as cv\n",
    "import sklearn.neighbors as nb\n",
    "import pandas as pd\n",
    "import nltk\n",
    "import re\n",
    "nltk.download('punkt')\n",
    "nltk.download('stopwords')\n",
    "nltk.download('averaged_perceptron_tagger')\n",
    "from nltk import word_tokenize\n",
    "from nltk.stem.snowball import EnglishStemmer\n",
    "from nltk.corpus import stopwords\n",
    "from sklearn.utils import shuffle\n",
    "from sklearn.feature_extraction.text import TfidfVectorizer\n",
    "from sklearn.feature_extraction.text import CountVectorizer\n",
    "\n",
    "# Funtion to get the tf_idf scores for a list of strings representing a title\n",
    "# takes a list of strings as parameters\n",
    "def pre_tfidf2(data):\n",
    "    nr_pattern = re.compile(r'\\b[+-]?\\d*[.,]?\\d+([eE][+-]?\\d+)?\\b')\n",
    "    non_alphanum = re.compile(r'[^\\w\\d\\-\\+]')\n",
    "    for i in range(len(data)):\n",
    "        title = non_alphanum.sub(' ', data[i])\n",
    "        data[i] = nr_pattern.sub('NUMBER_SPECIAL_TOKEN', title)\n",
    "    vectorizer = TfidfVectorizer(stop_words=stopwords.words('english'), max_features=500)\n",
    "    X = vectorizer.fit_transform(data)\n",
    "    return X.toarray()\n",
    "\n",
    "# reading the data\n",
    "dt_true = pd.read_csv('clickbait_data.txt', sep='\\n', names=['Title'])\n",
    "dt_false = pd.read_csv('non_clickbait_data.txt', sep='\\n', names=['Title'])\n",
    "dt_true = dt_true.assign(Label = lambda x: True)\n",
    "dt_false = dt_false.assign(Label = lambda x: False)\n",
    "\n",
    "# merging the data\n",
    "dt = pd.concat([dt_true, dt_false], ignore_index=True)\n",
    "\n",
    "# shulffing data\n",
    "dt = shuffle(dt).reset_index(drop=True)\n",
    "\n",
    "# computing tf-idf\n",
    "X = pre_tfidf2(dt['Title'].to_list()) # tf_idf scores\n",
    "y = dt['Label'] # labels"
   ]
  },
  {
   "cell_type": "code",
   "execution_count": 2,
   "metadata": {
    "id": "cKy9H_UcAa6a",
    "outputId": "69f4fb00-a208-41ee-db66-584979723d8f"
   },
   "outputs": [
    {
     "name": "stdout",
     "output_type": "stream",
     "text": [
      "(32000, 500)\n",
      "(32000,)\n"
     ]
    }
   ],
   "source": [
    "# Separation into data and label\n",
    "print(X.shape)\n",
    "print(y.shape)"
   ]
  },
  {
   "cell_type": "code",
   "execution_count": 3,
   "metadata": {
    "id": "8QdVIFKQAa6b",
    "outputId": "ec0f7c02-50bf-404b-c220-e0096ed6fb3b"
   },
   "outputs": [
    {
     "data": {
      "text/plain": [
       "0.88653125"
      ]
     },
     "execution_count": 3,
     "metadata": {},
     "output_type": "execute_result"
    }
   ],
   "source": [
    "# Train on data. No parameters to adjust\n",
    "\n",
    "from sklearn.naive_bayes import GaussianNB       ### Because continuous data\n",
    "from sklearn.model_selection import StratifiedKFold\n",
    "from sklearn.model_selection import cross_val_score, train_test_split\n",
    "import sklearn.neighbors as nb\n",
    "\n",
    "cv = StratifiedKFold(n_splits=10) \n",
    "\n",
    "gnb = GaussianNB()\n",
    "cv_scores = cross_val_score(gnb,X=X,y=y,cv=cv)\n",
    "np.mean(cv_scores)\n"
   ]
  },
  {
   "cell_type": "code",
   "execution_count": 4,
   "metadata": {
    "id": "U1x1aBiAAa6c",
    "outputId": "2c7cf0f3-c4e5-405e-faa4-7b97ddf79a84"
   },
   "outputs": [
    {
     "name": "stdout",
     "output_type": "stream",
     "text": [
      "[[14700  1301]\n",
      " [ 2330 13669]]\n",
      "0.88653125\n"
     ]
    }
   ],
   "source": [
    "from sklearn.model_selection import cross_val_predict  \n",
    "from sklearn.metrics import accuracy_score\n",
    "from sklearn.metrics import confusion_matrix\n",
    "\n",
    "predicted = cross_val_predict(GaussianNB(), X=X, y=y,  cv=cv)  \n",
    "\n",
    "print(confusion_matrix(y, predicted))\n",
    "print(accuracy_score(y, predicted))"
   ]
  },
  {
   "cell_type": "code",
   "execution_count": 5,
   "metadata": {
    "id": "c8JlQY7aAa6d",
    "outputId": "81dc3277-832f-48ce-cef3-cda017ca2cd2"
   },
   "outputs": [
    {
     "name": "stdout",
     "output_type": "stream",
     "text": [
      "              precision    recall  f1-score   support\n",
      "\n",
      "       False       0.86      0.92      0.89     16001\n",
      "        True       0.91      0.85      0.88     15999\n",
      "\n",
      "    accuracy                           0.89     32000\n",
      "   macro avg       0.89      0.89      0.89     32000\n",
      "weighted avg       0.89      0.89      0.89     32000\n",
      "\n"
     ]
    }
   ],
   "source": [
    "from sklearn.metrics import classification_report\n",
    "\n",
    "print(classification_report(y, predicted))"
   ]
  },
  {
   "cell_type": "markdown",
   "metadata": {
    "id": "PwZdu6CPAa6e"
   },
   "source": [
    "## Adjusting probability threshold"
   ]
  },
  {
   "cell_type": "code",
   "execution_count": 6,
   "metadata": {
    "id": "1n5kjVVuAa6g"
   },
   "outputs": [],
   "source": [
    "# Focus on predict class 1\n",
    "\n",
    "y2 = np.zeros((y.shape))\n",
    "y2[y==0]=1\n",
    "y2[y==1]=0\n",
    "\n",
    "(X_train, X_test,  y_train, y_test) = train_test_split(X, y2, test_size=.3, random_state=1)\n",
    "\n"
   ]
  },
  {
   "cell_type": "code",
   "execution_count": 7,
   "metadata": {
    "id": "2auB1k8WAa6h",
    "outputId": "54361ed3-a033-4258-9b5a-a0a5c7964975"
   },
   "outputs": [
    {
     "name": "stdout",
     "output_type": "stream",
     "text": [
      "Selected threshold in 10-fold cross validation: 0.3980735275926413\n",
      "\n"
     ]
    }
   ],
   "source": [
    "from sklearn.metrics import f1_score\n",
    "from sklearn.model_selection import StratifiedKFold\n",
    "\n",
    "def filterp(th,ProbClass1):\n",
    "    \"\"\" Given a treshold \"th\" and a set of probabilies of belonging to class 1 \"ProbClass1\", return predictions \"\"\" \n",
    "    y=np.zeros(ProbClass1.shape[0])\n",
    "    for i,v in enumerate(ProbClass1):\n",
    "        if ProbClass1[i]>th:\n",
    "            y[i]=1\n",
    "    return y  \n",
    "\n",
    "clf = GaussianNB()\n",
    "lth=[]\n",
    "\n",
    "# We do a 10 fold crossvalidation with 10 iterations\n",
    "kf = StratifiedKFold(n_splits=20, shuffle=True, random_state=42)\n",
    "for train_index, test_index in kf.split(X_train, y_train):\n",
    "    X_train2, X_test2 = X[train_index], X[test_index]\n",
    "    y_train2, y_test2 = y2[train_index], y2[test_index]\n",
    "\n",
    "    # Train with the training data of the iteration \n",
    "    clf.fit(X_train2, y_train2)\n",
    "    # Obtaining probablity predictions for test data of the iterarion\n",
    "    probs = clf.predict_proba(X_test2)\n",
    "    # Collect probabilities of belonging to class 1\n",
    "    ProbClass1 = probs[:,1]\n",
    "    # Sort probabilities and generate pairs (threshold, f1-for-that-threshold) \n",
    "    res = np.array([[th,f1_score(y_test2,filterp(th,ProbClass1),pos_label=1)] for th in np.sort(ProbClass1)])\n",
    "\n",
    "    # Uncomment the following lines if you want to plot at each iteration how f1-score evolves increasing the threshold \n",
    "    #plt.plot(res[:,0],res[:,1])\n",
    "    #plt.show()\n",
    "\n",
    "    # Find the threshold that has maximum value of f1-score\n",
    "    maxF = np.max(res[:,1])\n",
    "    pl = np.argmax(res[:,1])\n",
    "    optimal_th = res[pl,0]\n",
    "    \n",
    "    # Store the optimal threshold found for the current iteration\n",
    "    lth.append(optimal_th)\n",
    "\n",
    "# Compute the average threshold for all 10 iterations    \n",
    "thdef = np.mean(lth)\n",
    "print(\"Selected threshold in 10-fold cross validation:\", thdef)\n",
    "print()"
   ]
  },
  {
   "cell_type": "code",
   "execution_count": 8,
   "metadata": {
    "id": "7PHQLyHgAa6i"
   },
   "outputs": [],
   "source": [
    "# Train a classifier with the whole training data \n",
    "clf = GaussianNB()\n",
    "clf.fit(X_train, y_train)\n",
    "# Obtain probabilities for data on test set\n",
    "probs = clf.predict_proba(X_test)\n",
    "# Generate predictions using probabilities and threshold found on 10 folds cross-validation\n"
   ]
  },
  {
   "cell_type": "code",
   "execution_count": 9,
   "metadata": {
    "id": "2hYpxHD1Aa6i",
    "outputId": "a10f1074-026b-43df-e511-be4bb89948e0"
   },
   "outputs": [
    {
     "name": "stdout",
     "output_type": "stream",
     "text": [
      "              precision    recall  f1-score   support\n",
      "\n",
      "         0.0       0.90      0.87      0.89      4892\n",
      "         1.0       0.87      0.90      0.89      4708\n",
      "\n",
      "    accuracy                           0.89      9600\n",
      "   macro avg       0.89      0.89      0.89      9600\n",
      "weighted avg       0.89      0.89      0.89      9600\n",
      "\n"
     ]
    }
   ],
   "source": [
    "pred = filterp(thdef,probs[:,1])\n",
    "# Print results with this prediction vector\n",
    "print(classification_report(y_test, pred))\n",
    "\n",
    "# Ignore warnings explaining that in some iterations f1 score is 0"
   ]
  },
  {
   "cell_type": "code",
   "execution_count": 10,
   "metadata": {
    "id": "ScFx43cMAa6j",
    "outputId": "689dc72a-66fe-44de-e356-79298a19416b"
   },
   "outputs": [
    {
     "name": "stdout",
     "output_type": "stream",
     "text": [
      "              precision    recall  f1-score   support\n",
      "\n",
      "         0.0       0.90      0.87      0.89      4892\n",
      "         1.0       0.87      0.90      0.89      4708\n",
      "\n",
      "    accuracy                           0.89      9600\n",
      "   macro avg       0.89      0.89      0.89      9600\n",
      "weighted avg       0.89      0.89      0.89      9600\n",
      "\n"
     ]
    }
   ],
   "source": [
    "clf = GaussianNB()\n",
    "clf.fit(X_train, y_train)\n",
    "pred=clf.predict(X_test)\n",
    "print(classification_report(y_test, pred))"
   ]
  },
  {
   "cell_type": "code",
   "execution_count": 11,
   "metadata": {
    "id": "xwvdJmPwX-oY"
   },
   "outputs": [
    {
     "data": {
      "image/png": "[encoded data removed]",
      "text/plain": [
       "<Figure size 180x180 with 1 Axes>"
      ]
     },
     "metadata": {
      "needs_background": "light"
     },
     "output_type": "display_data"
    }
   ],
   "source": [
    "confmat = sklearn.metrics.confusion_matrix(y_test, pred)\n",
    "\n",
    "fig, ax = plt.subplots(figsize=(2.5, 2.5))\n",
    "ax.matshow(confmat, cmap=plt.cm.Blues, alpha=0.3)\n",
    "for i in range(confmat.shape[0]):\n",
    "    for j in range(confmat.shape[1]):\n",
    "        ax.text(x=j, y=i, s=confmat[i, j], va='center', ha='center',fontsize=7)\n",
    "\n",
    "plt.xlabel('Predicted label')\n",
    "plt.ylabel('True label')\n",
    "\n",
    "plt.tight_layout()\n",
    "plt.savefig('ConMatrix.png', dpi=600)\n",
    "plt.show()"
   ]
  }
 ],
 "metadata": {
  "colab": {
   "collapsed_sections": [],
   "name": "NaiveBayes.ipynb",
   "provenance": []
  },
  "kernelspec": {
   "display_name": "Python 3",
   "language": "python",
   "name": "python3"
  },
  "language_info": {
   "codemirror_mode": {
    "name": "ipython",
    "version": 3
   },
   "file_extension": ".py",
   "mimetype": "text/x-python",
   "name": "python",
   "nbconvert_exporter": "python",
   "pygments_lexer": "ipython3",
   "version": "3.8.10"
  }
 },
 "nbformat": 4,
 "nbformat_minor": 1
}
