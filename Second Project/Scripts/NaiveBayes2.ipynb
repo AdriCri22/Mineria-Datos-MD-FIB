{
 "cells": [
  {
   "cell_type": "code",
   "execution_count": 1,
   "metadata": {
    "id": "jL8YZjrYTOK5",
    "outputId": "f4986da0-e29b-4593-dbc4-b2308a7b6ce5"
   },
   "outputs": [
    {
     "name": "stderr",
     "output_type": "stream",
     "text": [
      "[nltk_data] Downloading package punkt to /home/adrian/nltk_data...\n",
      "[nltk_data]   Package punkt is already up-to-date!\n",
      "[nltk_data] Downloading package stopwords to /home/adrian/nltk_data...\n",
      "[nltk_data]   Package stopwords is already up-to-date!\n",
      "[nltk_data] Downloading package averaged_perceptron_tagger to\n",
      "[nltk_data]     /home/adrian/nltk_data...\n",
      "[nltk_data]   Package averaged_perceptron_tagger is already up-to-\n",
      "[nltk_data]       date!\n"
     ]
    }
   ],
   "source": [
    "# Libraries\n",
    "from sklearn.feature_extraction.text import CountVectorizer\n",
    "from sklearn.feature_extraction.text import TfidfVectorizer\n",
    "from sklearn.utils import shuffle\n",
    "from nltk.corpus import stopwords\n",
    "from nltk.stem.snowball import EnglishStemmer\n",
    "from nltk import word_tokenize\n",
    "import numpy as np\n",
    "import matplotlib.pyplot as plt\n",
    "import sklearn\n",
    "import sklearn.datasets as ds\n",
    "import sklearn.model_selection as cv\n",
    "import sklearn.neighbors as nb\n",
    "import pandas as pd\n",
    "import nltk\n",
    "import re\n",
    "nltk.download('punkt')\n",
    "nltk.download('stopwords')\n",
    "nltk.download('averaged_perceptron_tagger')\n",
    "\n",
    "stemmer = EnglishStemmer(ignore_stopwords=True)\n",
    "tokenize = TfidfVectorizer().build_tokenizer()\n",
    "\n",
    "\n",
    "def stemmed_words(doc):\n",
    "    return (stemmer.stem(w) for w in tokenize(doc))\n",
    "\n",
    "# Function to get the tf_idf scores for a list of strings representing a title\n",
    "# takes a list of strings as parameters\n",
    "def pre_tfidf2(data):\n",
    "    nr_pattern = re.compile(r'\\b[+-]?\\d*[.,]?\\d+([eE][+-]?\\d+)?\\b')\n",
    "    acronyms = re.compile(r'\\b(\\w)[.+:\\-]')\n",
    "    non_alphanum = re.compile(r'[^\\w\\d\\-\\+\\s]')\n",
    "    for i in range(len(data)):\n",
    "        title = acronyms.sub(r'\\1', data[i])\n",
    "        title = non_alphanum.sub(' ', title)\n",
    "        data[i] = nr_pattern.sub('NUMBER_SPECIAL_TOKEN', title)\n",
    "    vectorizer = TfidfVectorizer(\n",
    "        tokenizer=stemmed_words, stop_words=stopwords.words('english'), max_features=1000)\n",
    "    X = vectorizer.fit_transform(data)\n",
    "    # features = vectorizer.get_feature_names()\n",
    "    return X.toarray()\n",
    "\n",
    "\n",
    "# reading the data\n",
    "dt_true = pd.read_csv('clickbait_data.txt', sep='\\n', names=['Title'])\n",
    "dt_false = pd.read_csv('non_clickbait_data.txt', sep='\\n', names=['Title'])\n",
    "dt_true = dt_true.assign(Label=lambda x: True)\n",
    "dt_false = dt_false.assign(Label=lambda x: False)\n",
    "\n",
    "# merging the data\n",
    "dt = pd.concat([dt_true, dt_false], ignore_index=True)\n",
    "\n",
    "# shulffing data\n",
    "dt = shuffle(dt).reset_index(drop=True)\n",
    "\n",
    "# computing tf-idf\n",
    "X = pre_tfidf2(dt['Title'].to_list())  # tf_idf scores\n",
    "y = dt['Label']  # labels"
   ]
  },
  {
   "cell_type": "code",
   "execution_count": 2,
   "metadata": {
    "id": "d1OOfgvcTOK9",
    "outputId": "71604cef-999b-452c-e041-3f7ae754692e"
   },
   "outputs": [
    {
     "name": "stdout",
     "output_type": "stream",
     "text": [
      "(32000, 1000)\n",
      "(32000,)\n"
     ]
    }
   ],
   "source": [
    "# Separation into data and label\n",
    "print(X.shape)\n",
    "print(y.shape)"
   ]
  },
  {
   "cell_type": "code",
   "execution_count": 3,
   "metadata": {
    "id": "pQTnAIUJTOK9",
    "outputId": "23b792b5-055e-40f5-a705-f61dcb36478c"
   },
   "outputs": [
    {
     "data": {
      "text/plain": [
       "0.9049687499999999"
      ]
     },
     "execution_count": 3,
     "metadata": {},
     "output_type": "execute_result"
    }
   ],
   "source": [
    "# Train on data. No parameters to adjust\n",
    "\n",
    "from sklearn.naive_bayes import GaussianNB       ### Because continuous data\n",
    "from sklearn.model_selection import StratifiedKFold\n",
    "from sklearn.model_selection import cross_val_score, train_test_split\n",
    "import sklearn.neighbors as nb\n",
    "\n",
    "cv = StratifiedKFold(n_splits=10) \n",
    "\n",
    "gnb = GaussianNB()\n",
    "cv_scores = cross_val_score(gnb,X=X,y=y,cv=cv)\n",
    "np.mean(cv_scores)\n"
   ]
  },
  {
   "cell_type": "code",
   "execution_count": 4,
   "metadata": {
    "id": "4q_Va0SFTOK-",
    "outputId": "70e12218-8a39-45fb-8bc5-ac3b0ac90140"
   },
   "outputs": [
    {
     "name": "stdout",
     "output_type": "stream",
     "text": [
      "[[13900  2101]\n",
      " [  940 15059]]\n",
      "0.90496875\n"
     ]
    }
   ],
   "source": [
    "from sklearn.model_selection import cross_val_predict  \n",
    "from sklearn.metrics import accuracy_score\n",
    "from sklearn.metrics import confusion_matrix\n",
    "\n",
    "predicted = cross_val_predict(GaussianNB(), X=X, y=y,  cv=cv)  \n",
    "\n",
    "print(confusion_matrix(y, predicted))\n",
    "print(accuracy_score(y, predicted))"
   ]
  },
  {
   "cell_type": "code",
   "execution_count": 5,
   "metadata": {
    "id": "cTV2UGw-TOK_",
    "outputId": "eb39dd7c-7a4c-48da-ff5e-659f0f0b5503"
   },
   "outputs": [
    {
     "name": "stdout",
     "output_type": "stream",
     "text": [
      "              precision    recall  f1-score   support\n",
      "\n",
      "       False       0.94      0.87      0.90     16001\n",
      "        True       0.88      0.94      0.91     15999\n",
      "\n",
      "    accuracy                           0.90     32000\n",
      "   macro avg       0.91      0.90      0.90     32000\n",
      "weighted avg       0.91      0.90      0.90     32000\n",
      "\n"
     ]
    }
   ],
   "source": [
    "from sklearn.metrics import classification_report\n",
    "\n",
    "print(classification_report(y, predicted))"
   ]
  },
  {
   "cell_type": "markdown",
   "metadata": {
    "id": "tQ41ujvYTOK_"
   },
   "source": [
    "## Adjusting probability threshold"
   ]
  },
  {
   "cell_type": "code",
   "execution_count": 6,
   "metadata": {
    "id": "Y9nn5oEWTOLA"
   },
   "outputs": [],
   "source": [
    "# Focus on predict class 1\n",
    "\n",
    "y2 = np.zeros((y.shape))\n",
    "y2[y==0]=1\n",
    "y2[y==1]=0\n",
    "\n",
    "(X_train, X_test,  y_train, y_test) = train_test_split(X, y2, test_size=.3, random_state=1)"
   ]
  },
  {
   "cell_type": "code",
   "execution_count": 7,
   "metadata": {
    "id": "-SqZtJv8TOLB",
    "outputId": "89832f67-9b33-46d7-8c71-972c8480cf30"
   },
   "outputs": [
    {
     "name": "stdout",
     "output_type": "stream",
     "text": [
      "Fitting 5 folds for each of 100 candidates, totalling 500 fits\n",
      "0.91375\n",
      "GaussianNB(var_smoothing=0.0533669923120631)\n"
     ]
    }
   ],
   "source": [
    "from sklearn.naive_bayes import GaussianNB\n",
    "from sklearn.model_selection import GridSearchCV\n",
    "\n",
    "param_grid_nb = {\n",
    "    'var_smoothing': np.logspace(0,-9, num=100)\n",
    "}\n",
    "\n",
    "gd=GridSearchCV(estimator=GaussianNB(), param_grid = param_grid_nb, verbose = True)\n",
    "\n",
    "gd.fit(X_train, y_train)\n",
    "print(gd.best_score_)\n",
    "print(gd.best_estimator_)"
   ]
  },
  {
   "cell_type": "code",
   "execution_count": 8,
   "metadata": {
    "id": "PK0aoxS1TOLD"
   },
   "outputs": [
    {
     "name": "stdout",
     "output_type": "stream",
     "text": [
      "              precision    recall  f1-score   support\n",
      "\n",
      "         0.0       0.89      0.95      0.92      4798\n",
      "         1.0       0.95      0.88      0.91      4802\n",
      "\n",
      "    accuracy                           0.92      9600\n",
      "   macro avg       0.92      0.92      0.92      9600\n",
      "weighted avg       0.92      0.92      0.92      9600\n",
      "\n"
     ]
    }
   ],
   "source": [
    "# Train a classifier with the whole training data \n",
    "clf = gd.best_estimator_\n",
    "clf.fit(X_train, y_train)\n",
    "# Obtain probabilities for data on test set\n",
    "pred = clf.predict(X_test)\n",
    "# Print results with this prediction vector\n",
    "print(classification_report(y_test, pred))"
   ]
  },
  {
   "cell_type": "code",
   "execution_count": 9,
   "metadata": {
    "colab": {
     "base_uri": "https://localhost:8080/",
     "height": 235
    },
    "executionInfo": {
     "elapsed": 290,
     "status": "error",
     "timestamp": 1640801303656,
     "user": {
      "displayName": "Adrian Cristian Crisan",
      "photoUrl": "https://lh3.googleusercontent.com/a/default-user=s64",
      "userId": "13633074010779445649"
     },
     "user_tz": -60
    },
    "id": "XhDYAlrmYNa7",
    "outputId": "65bdf23d-1ee1-4e2a-f3ef-769ada923718"
   },
   "outputs": [
    {
     "data": {
      "image/png": "[encoded data removed]",
      "text/plain": [
       "<Figure size 180x180 with 1 Axes>"
      ]
     },
     "metadata": {
      "needs_background": "light"
     },
     "output_type": "display_data"
    }
   ],
   "source": [
    "confmat = sklearn.metrics.confusion_matrix(y_test, pred)\n",
    "\n",
    "fig, ax = plt.subplots(figsize=(2.5, 2.5))\n",
    "ax.matshow(confmat, cmap=plt.cm.Blues, alpha=0.3)\n",
    "for i in range(confmat.shape[0]):\n",
    "    for j in range(confmat.shape[1]):\n",
    "        ax.text(x=j, y=i, s=confmat[i, j], va='center', ha='center',fontsize=7)\n",
    "\n",
    "plt.xlabel('Predicted label')\n",
    "plt.ylabel('True label')\n",
    "\n",
    "plt.tight_layout()\n",
    "plt.savefig('ConMatrix2.png', dpi=600)\n",
    "plt.show()"
   ]
  }
 ],
 "metadata": {
  "colab": {
   "collapsed_sections": [],
   "name": "NaiveBayes2.ipynb",
   "provenance": []
  },
  "kernelspec": {
   "display_name": "Python 3",
   "language": "python",
   "name": "python3"
  },
  "language_info": {
   "codemirror_mode": {
    "name": "ipython",
    "version": 3
   },
   "file_extension": ".py",
   "mimetype": "text/x-python",
   "name": "python",
   "nbconvert_exporter": "python",
   "pygments_lexer": "ipython3",
   "version": "3.8.10"
  }
 },
 "nbformat": 4,
 "nbformat_minor": 1
}
